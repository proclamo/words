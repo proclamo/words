{
 "cells": [
  {
   "cell_type": "code",
   "execution_count": 2,
   "id": "67643754-88fa-4d39-a91c-5215989f1445",
   "metadata": {},
   "outputs": [],
   "source": [
    "import os"
   ]
  },
  {
   "cell_type": "code",
   "execution_count": 3,
   "id": "571adc26-854c-4f9e-85fd-ebf3ba15f6d7",
   "metadata": {},
   "outputs": [],
   "source": [
    "model_uri = os.environ.get(\"MODEL_URI\")"
   ]
  },
  {
   "cell_type": "code",
   "execution_count": 4,
   "id": "14253d9f-f96b-4f17-aa53-fd30f9ce2418",
   "metadata": {},
   "outputs": [],
   "source": [
    "from langchain.chat_models import ChatOllama\n",
    "from langchain.schema import HumanMessage, SystemMessage, StrOutputParser\n",
    "from langchain.prompts import PromptTemplate\n"
   ]
  },
  {
   "cell_type": "code",
   "execution_count": 36,
   "id": "498b96ef-bbca-4c90-832c-f7568618a236",
   "metadata": {},
   "outputs": [],
   "source": [
    "\n",
    "template = \"\"\"\n",
    "    You are a graph builder. You are provided with a text. The text will be full of descriptions of persons and objects.\n",
    "    You have to extract the keyword, the property and the relation between them. \n",
    "    You have to build the graph following the next json structure:\n",
    "\n",
    "    ```\n",
    "    [\n",
    "        {{\n",
    "            \"node1\": keyword1,\n",
    "            \"node2\": description,\n",
    "            \"edge\": relation\n",
    "        }},\n",
    "        {{ ... }}\n",
    "        ...\n",
    "    ]\n",
    "    ```\n",
    "\n",
    "    Notes:\n",
    "        - the relation uses to be the verb (i.e.: \"The house is red\" -> node1: 'house', node2: 'red', 'edge': 'is' )\n",
    "        - sometimes the relation is implicit: (i.e.: \"A blue shirt\" -> node1: 'shirt', node2: 'blue', 'edge': 'is')\n",
    "        - if there are more than one property, you'll make several entries in the json\n",
    "        - make the graph with all the sentences and words of the provided text\n",
    "        - the response must be a valid JSON array of objects\n",
    "\n",
    "\n",
    "    Text: {text}\n",
    "    \"\"\"\n"
   ]
  },
  {
   "cell_type": "code",
   "execution_count": 37,
   "id": "f94db2af-3080-40e9-97d4-3653a480391b",
   "metadata": {},
   "outputs": [],
   "source": [
    "model = ChatOllama(base_url=model_uri, model=\"orca-mini\", temperature=0)\n",
    "prompt = PromptTemplate.from_template(template)\n",
    "output_parser = StrOutputParser()\n",
    "\n",
    "chain = prompt | model | output_parser\n"
   ]
  },
  {
   "cell_type": "code",
   "execution_count": 38,
   "id": "28a9f958-373d-485d-9c6f-ef93ffad2b1c",
   "metadata": {},
   "outputs": [],
   "source": [
    "input = \"\"\" \n",
    "In a small, bustling town, the clock at the train station struck 13 hours. The sun shone brightly, casting a warm, golden glow on the scene. The station, an old but well-maintained structure, bore the classic charm of early 20th-century architecture. Its red brick walls, adorned with ivy, exuded a sense of history and permanence.\n",
    "People of various walks of life milled about, each absorbed in their own world. A young family stood near the entrance: a mother, father, and two children. The father, dressed in a simple, neatly pressed cotton shirt and denim jeans, held a small suitcase, his eyes scanning the train schedule. The mother, beside him, wore a floral dress made of light fabric, perfect for the warm day, and held the hand of their youngest, a girl of about five, in a pink sundress and white sandals. Their son, perhaps eight, stood a bit apart, his curiosity piqued by the surroundings, dressed in shorts and a striped T-shirt.\n",
    "Nearby, a group of friends, probably in their late teens, chatted animatedly. They were a diverse bunch. One girl, with long, curly hair, wore a vibrant red top and black jeans, her style striking and confident. Another, shorter and with straight hair, had on a pastel-colored T-shirt and shorts, her demeanor more reserved. Among the boys, one sported a sports jersey and shorts, clearly a fan of some local team, while another wore a simple polo shirt and khaki pants. Their laughter and chatter added a lively energy to the atmosphere.\n",
    "On a bench, an elderly couple sat quietly, enjoying the warmth of the day. The man, with wisps of white hair and a kind face, wore a light sweater despite the warmth, and trousers that spoke of a different era. His companion, a woman of similar age, had her hair neatly tied in a bun, and wore a classic dress, its floral pattern faded but elegant. They shared a serene, contented silence, occasionally exchanging soft words.\n",
    "The station itself was a marvel. Its high ceiling was supported by sturdy wooden beams, and the large windows let in ample natural light. The benches were of simple, solid wood, polished by years of use. The departure board, a mix of digital and old mechanical styles, clicked and whirred as train times updated.\n",
    "On the platform, a businessman stood apart, his posture tense. Dressed in a sharp suit, his attention was fixed on his phone, the modern world intruding upon this timeless scene. His briefcase, a sleek, modern design, contrasted with the rustic charm of the station.\n",
    "A vendor, with a small cart filled with snacks and drinks, moved through the crowd. His attire was casual, a T-shirt and jeans, and his warm smile invited conversation. People occasionally stopped him, buying a quick snack or a bottle of water, exchanging pleasantries.\n",
    "\"\"\""
   ]
  },
  {
   "cell_type": "code",
   "execution_count": 39,
   "id": "1e4ac28e-6a77-4181-a45b-e8d15e1e4687",
   "metadata": {},
   "outputs": [],
   "source": [
    "response = chain.invoke({\"text\": input})"
   ]
  },
  {
   "cell_type": "code",
   "execution_count": 40,
   "id": "de1cb5d8-0223-4983-b9d8-b26e7647f511",
   "metadata": {},
   "outputs": [
    {
     "name": "stdout",
     "output_type": "stream",
     "text": [
      " {\n",
      " \"node1\": \"clock\",\n",
      " \"node2\": \"sun\",\n",
      " \"edge\": \"casts\"\n",
      "}\n",
      "\n",
      "{\n",
      " \"node1\": \"family\",\n",
      " \"node2\": \"mother\",\n",
      " \"edge\": \"holds\"\n",
      "}\n",
      "\n",
      "{\n",
      " \"node1\": \"son\",\n",
      " \"node2\": \"piqued\",\n",
      " \"edge\": \"curiosity\"\n",
      "}\n",
      "\n",
      "{\n",
      " \"node1\": \"group\",\n",
      " \"node2\": \"chatted\",\n",
      " \"edge\": \"stirred\"\n",
      "}\n",
      "\n",
      "{\n",
      " \"node1\": \"bronze\",\n",
      " \"node2\": \"sweater\",\n",
      " \"edge\": \"faded\"\n",
      "}\n",
      "\n",
      "{\n",
      " \"node1\": \"pastel\",\n",
      " \"node2\": \"T-shirt\",\n",
      " \"edge\": \"style\"\n",
      "}\n",
      "\n",
      "{\n",
      " \"node1\": \"local\",\n",
      " \"node2\": \"team\",\n",
      " \"edge\": \"fan\"\n",
      "}\n",
      "\n",
      "{\n",
      " \"node1\": \"bun\",\n",
      " \"node2\": \"dress\",\n",
      " \"edge\": \"faded\"\n",
      "}\n",
      "\n",
      "{\n",
      " \"node1\": \"elderly\",\n",
      " \"node2\": \"couple\",\n",
      " \"edge\": \"contented\"\n",
      "}\n",
      "\n",
      "{\n",
      " \"node1\": \"station\",\n",
      " \"node2\": \"high\",\n",
      " \"edge\": \"supported\"\n",
      "}\n",
      "\n",
      "{\n",
      " \"node1\": \"businessman\",\n",
      " \"node2\": \"tension\",\n",
      " \"edge\": \"focused\"\n",
      "}\n",
      "\n",
      "{\n",
      " \"node1\": \"vendor\",\n",
      " \"node2\": \"attire\",\n",
      " \"edge\": \"warm\"\n",
      "}\n"
     ]
    }
   ],
   "source": [
    "# the response never comes as valid JSON, so here I manipulate it\n",
    "print(response)\n"
   ]
  },
  {
   "cell_type": "code",
   "execution_count": 41,
   "id": "7067b167-1e94-44df-824e-75dfa39efc22",
   "metadata": {},
   "outputs": [],
   "source": [
    "# the response never comes as valid JSON, so here I manipulate it\n",
    "\n",
    "r = \"},{\".join(response.split(\"\"\"}\n",
    "\n",
    "{\"\"\"))\n",
    "\n",
    "data = f\"[{r}]\""
   ]
  },
  {
   "cell_type": "code",
   "execution_count": 42,
   "id": "dcb6f489-0dde-4a89-9854-86eb4ef30224",
   "metadata": {},
   "outputs": [],
   "source": [
    "import json\n",
    "graph = json.loads(data)\n"
   ]
  },
  {
   "cell_type": "code",
   "execution_count": 43,
   "id": "549ffc04-929e-44e7-8af8-6bc475858286",
   "metadata": {},
   "outputs": [],
   "source": [
    "neo4j_uri = os.environ.get(\"NEO4J_URI\")"
   ]
  },
  {
   "cell_type": "code",
   "execution_count": 44,
   "id": "bbe44024-fc14-4586-b064-fcb3d1ffbee0",
   "metadata": {},
   "outputs": [],
   "source": [
    "from neo4j import GraphDatabase"
   ]
  },
  {
   "cell_type": "code",
   "execution_count": 45,
   "id": "1eeb1442-d9e0-47f5-99da-915674c3914a",
   "metadata": {},
   "outputs": [],
   "source": [
    "def insert_nodes(tx, n):\n",
    "    result = tx.run(\n",
    "        \"\"\"\n",
    "        CREATE (:Word { value: $node1 })-[:IS { relation: $edge }]->(:Word { value: $node2 })\n",
    "        \"\"\",\n",
    "        node1=n.get(\"node1\"),\n",
    "        node2=n.get(\"node2\"),\n",
    "        edge=n.get(\"edge\")\n",
    "    )\n",
    "    return result\n",
    "\n",
    "    \n",
    "            "
   ]
  },
  {
   "cell_type": "code",
   "execution_count": 46,
   "id": "c4f835c0-4fa6-469b-8e15-1ab8abd3ed05",
   "metadata": {},
   "outputs": [
    {
     "name": "stdout",
     "output_type": "stream",
     "text": [
      "<neo4j._sync.work.result.Result object at 0x7fdbf07056d0>\n",
      "<neo4j._sync.work.result.Result object at 0x7fdbf0706750>\n",
      "<neo4j._sync.work.result.Result object at 0x7fdbf0706a50>\n",
      "<neo4j._sync.work.result.Result object at 0x7fdbf0704610>\n",
      "<neo4j._sync.work.result.Result object at 0x7fdbf0707b50>\n",
      "<neo4j._sync.work.result.Result object at 0x7fdbf0714710>\n",
      "<neo4j._sync.work.result.Result object at 0x7fdbf0714890>\n",
      "<neo4j._sync.work.result.Result object at 0x7fdbf0715290>\n",
      "<neo4j._sync.work.result.Result object at 0x7fdbf0714d50>\n",
      "<neo4j._sync.work.result.Result object at 0x7fdbf08d3490>\n",
      "<neo4j._sync.work.result.Result object at 0x7fdbf08d2b10>\n",
      "<neo4j._sync.work.result.Result object at 0x7fdbf0714750>\n"
     ]
    }
   ],
   "source": [
    "with GraphDatabase.driver(uri=neo4j_uri, auth=None) as driver:\n",
    "    with driver.session(database=\"neo4j\") as session:\n",
    "        for n in graph:\n",
    "            result = session.execute_write(insert_nodes, n)\n",
    "            print(result)"
   ]
  },
  {
   "cell_type": "code",
   "execution_count": null,
   "id": "a39465c7-a498-4de6-897d-9aa163183bae",
   "metadata": {},
   "outputs": [],
   "source": []
  }
 ],
 "metadata": {
  "kernelspec": {
   "display_name": "Python 3 (ipykernel)",
   "language": "python",
   "name": "python3"
  },
  "language_info": {
   "codemirror_mode": {
    "name": "ipython",
    "version": 3
   },
   "file_extension": ".py",
   "mimetype": "text/x-python",
   "name": "python",
   "nbconvert_exporter": "python",
   "pygments_lexer": "ipython3",
   "version": "3.11.6"
  }
 },
 "nbformat": 4,
 "nbformat_minor": 5
}
